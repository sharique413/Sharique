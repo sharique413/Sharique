{
 "cells": [
  {
   "cell_type": "code",
   "execution_count": 14,
   "metadata": {},
   "outputs": [],
   "source": [
    "import pandas as pd\n",
    "import numpy as np"
   ]
  },
  {
   "cell_type": "code",
   "execution_count": 15,
   "metadata": {},
   "outputs": [
    {
     "data": {
      "text/html": [
       "<div>\n",
       "<style scoped>\n",
       "    .dataframe tbody tr th:only-of-type {\n",
       "        vertical-align: middle;\n",
       "    }\n",
       "\n",
       "    .dataframe tbody tr th {\n",
       "        vertical-align: top;\n",
       "    }\n",
       "\n",
       "    .dataframe thead th {\n",
       "        text-align: right;\n",
       "    }\n",
       "</style>\n",
       "<table border=\"1\" class=\"dataframe\">\n",
       "  <thead>\n",
       "    <tr style=\"text-align: right;\">\n",
       "      <th></th>\n",
       "      <th>Type</th>\n",
       "      <th>Date</th>\n",
       "      <th>Time</th>\n",
       "      <th>open</th>\n",
       "      <th>high</th>\n",
       "      <th>low</th>\n",
       "      <th>close</th>\n",
       "      <th>Unnamed: 7</th>\n",
       "    </tr>\n",
       "  </thead>\n",
       "  <tbody>\n",
       "    <tr>\n",
       "      <th>0</th>\n",
       "      <td>NIFTY</td>\n",
       "      <td>20210101</td>\n",
       "      <td>09:16</td>\n",
       "      <td>13997.90</td>\n",
       "      <td>14020.85</td>\n",
       "      <td>13991.35</td>\n",
       "      <td>14013.15</td>\n",
       "      <td>NaN</td>\n",
       "    </tr>\n",
       "    <tr>\n",
       "      <th>1</th>\n",
       "      <td>NIFTY</td>\n",
       "      <td>20210101</td>\n",
       "      <td>09:17</td>\n",
       "      <td>14014.85</td>\n",
       "      <td>14018.55</td>\n",
       "      <td>14008.15</td>\n",
       "      <td>14009.05</td>\n",
       "      <td>NaN</td>\n",
       "    </tr>\n",
       "    <tr>\n",
       "      <th>2</th>\n",
       "      <td>NIFTY</td>\n",
       "      <td>20210101</td>\n",
       "      <td>09:18</td>\n",
       "      <td>14008.05</td>\n",
       "      <td>14013.10</td>\n",
       "      <td>14005.05</td>\n",
       "      <td>14012.70</td>\n",
       "      <td>NaN</td>\n",
       "    </tr>\n",
       "    <tr>\n",
       "      <th>3</th>\n",
       "      <td>NIFTY</td>\n",
       "      <td>20210101</td>\n",
       "      <td>09:19</td>\n",
       "      <td>14013.65</td>\n",
       "      <td>14019.10</td>\n",
       "      <td>14013.65</td>\n",
       "      <td>14016.20</td>\n",
       "      <td>NaN</td>\n",
       "    </tr>\n",
       "    <tr>\n",
       "      <th>4</th>\n",
       "      <td>NIFTY</td>\n",
       "      <td>20210101</td>\n",
       "      <td>09:20</td>\n",
       "      <td>14015.45</td>\n",
       "      <td>14017.80</td>\n",
       "      <td>14011.95</td>\n",
       "      <td>14015.45</td>\n",
       "      <td>NaN</td>\n",
       "    </tr>\n",
       "    <tr>\n",
       "      <th>...</th>\n",
       "      <td>...</td>\n",
       "      <td>...</td>\n",
       "      <td>...</td>\n",
       "      <td>...</td>\n",
       "      <td>...</td>\n",
       "      <td>...</td>\n",
       "      <td>...</td>\n",
       "      <td>...</td>\n",
       "    </tr>\n",
       "    <tr>\n",
       "      <th>22800</th>\n",
       "      <td>NIFTY</td>\n",
       "      <td>20210331</td>\n",
       "      <td>15:27</td>\n",
       "      <td>14687.35</td>\n",
       "      <td>14694.35</td>\n",
       "      <td>14686.30</td>\n",
       "      <td>14690.60</td>\n",
       "      <td>NaN</td>\n",
       "    </tr>\n",
       "    <tr>\n",
       "      <th>22801</th>\n",
       "      <td>NIFTY</td>\n",
       "      <td>20210331</td>\n",
       "      <td>15:28</td>\n",
       "      <td>14690.90</td>\n",
       "      <td>14690.90</td>\n",
       "      <td>14686.05</td>\n",
       "      <td>14689.30</td>\n",
       "      <td>NaN</td>\n",
       "    </tr>\n",
       "    <tr>\n",
       "      <th>22802</th>\n",
       "      <td>NIFTY</td>\n",
       "      <td>20210331</td>\n",
       "      <td>15:29</td>\n",
       "      <td>14690.30</td>\n",
       "      <td>14694.10</td>\n",
       "      <td>14688.55</td>\n",
       "      <td>14691.30</td>\n",
       "      <td>NaN</td>\n",
       "    </tr>\n",
       "    <tr>\n",
       "      <th>22803</th>\n",
       "      <td>NIFTY</td>\n",
       "      <td>20210331</td>\n",
       "      <td>15:30</td>\n",
       "      <td>14689.85</td>\n",
       "      <td>14693.55</td>\n",
       "      <td>14689.45</td>\n",
       "      <td>14693.05</td>\n",
       "      <td>NaN</td>\n",
       "    </tr>\n",
       "    <tr>\n",
       "      <th>22804</th>\n",
       "      <td>NIFTY</td>\n",
       "      <td>20210331</td>\n",
       "      <td>15:31</td>\n",
       "      <td>14690.70</td>\n",
       "      <td>14690.70</td>\n",
       "      <td>14690.70</td>\n",
       "      <td>14690.70</td>\n",
       "      <td>NaN</td>\n",
       "    </tr>\n",
       "  </tbody>\n",
       "</table>\n",
       "<p>22805 rows × 8 columns</p>\n",
       "</div>"
      ],
      "text/plain": [
       "        Type      Date   Time      open      high       low     close  \\\n",
       "0      NIFTY  20210101  09:16  13997.90  14020.85  13991.35  14013.15   \n",
       "1      NIFTY  20210101  09:17  14014.85  14018.55  14008.15  14009.05   \n",
       "2      NIFTY  20210101  09:18  14008.05  14013.10  14005.05  14012.70   \n",
       "3      NIFTY  20210101  09:19  14013.65  14019.10  14013.65  14016.20   \n",
       "4      NIFTY  20210101  09:20  14015.45  14017.80  14011.95  14015.45   \n",
       "...      ...       ...    ...       ...       ...       ...       ...   \n",
       "22800  NIFTY  20210331  15:27  14687.35  14694.35  14686.30  14690.60   \n",
       "22801  NIFTY  20210331  15:28  14690.90  14690.90  14686.05  14689.30   \n",
       "22802  NIFTY  20210331  15:29  14690.30  14694.10  14688.55  14691.30   \n",
       "22803  NIFTY  20210331  15:30  14689.85  14693.55  14689.45  14693.05   \n",
       "22804  NIFTY  20210331  15:31  14690.70  14690.70  14690.70  14690.70   \n",
       "\n",
       "       Unnamed: 7  \n",
       "0             NaN  \n",
       "1             NaN  \n",
       "2             NaN  \n",
       "3             NaN  \n",
       "4             NaN  \n",
       "...           ...  \n",
       "22800         NaN  \n",
       "22801         NaN  \n",
       "22802         NaN  \n",
       "22803         NaN  \n",
       "22804         NaN  \n",
       "\n",
       "[22805 rows x 8 columns]"
      ]
     },
     "execution_count": 15,
     "metadata": {},
     "output_type": "execute_result"
    }
   ],
   "source": [
    "df = pd.read_csv('DataFrame.csv')\n",
    "df"
   ]
  },
  {
   "cell_type": "code",
   "execution_count": 16,
   "metadata": {},
   "outputs": [
    {
     "data": {
      "text/html": [
       "<div>\n",
       "<style scoped>\n",
       "    .dataframe tbody tr th:only-of-type {\n",
       "        vertical-align: middle;\n",
       "    }\n",
       "\n",
       "    .dataframe tbody tr th {\n",
       "        vertical-align: top;\n",
       "    }\n",
       "\n",
       "    .dataframe thead th {\n",
       "        text-align: right;\n",
       "    }\n",
       "</style>\n",
       "<table border=\"1\" class=\"dataframe\">\n",
       "  <thead>\n",
       "    <tr style=\"text-align: right;\">\n",
       "      <th></th>\n",
       "      <th>Date</th>\n",
       "      <th>Open</th>\n",
       "      <th>High</th>\n",
       "      <th>Low</th>\n",
       "      <th>Close</th>\n",
       "      <th>Adj Close</th>\n",
       "      <th>Volume</th>\n",
       "    </tr>\n",
       "  </thead>\n",
       "  <tbody>\n",
       "    <tr>\n",
       "      <th>0</th>\n",
       "      <td>1986-03-13</td>\n",
       "      <td>0.088542</td>\n",
       "      <td>0.101563</td>\n",
       "      <td>0.088542</td>\n",
       "      <td>0.097222</td>\n",
       "      <td>0.061751</td>\n",
       "      <td>1031788800</td>\n",
       "    </tr>\n",
       "    <tr>\n",
       "      <th>1</th>\n",
       "      <td>1986-03-14</td>\n",
       "      <td>0.097222</td>\n",
       "      <td>0.102431</td>\n",
       "      <td>0.097222</td>\n",
       "      <td>0.100694</td>\n",
       "      <td>0.063956</td>\n",
       "      <td>308160000</td>\n",
       "    </tr>\n",
       "    <tr>\n",
       "      <th>2</th>\n",
       "      <td>1986-03-17</td>\n",
       "      <td>0.100694</td>\n",
       "      <td>0.103299</td>\n",
       "      <td>0.100694</td>\n",
       "      <td>0.102431</td>\n",
       "      <td>0.065059</td>\n",
       "      <td>133171200</td>\n",
       "    </tr>\n",
       "    <tr>\n",
       "      <th>3</th>\n",
       "      <td>1986-03-18</td>\n",
       "      <td>0.102431</td>\n",
       "      <td>0.103299</td>\n",
       "      <td>0.098958</td>\n",
       "      <td>0.099826</td>\n",
       "      <td>0.063405</td>\n",
       "      <td>67766400</td>\n",
       "    </tr>\n",
       "    <tr>\n",
       "      <th>4</th>\n",
       "      <td>1986-03-19</td>\n",
       "      <td>0.099826</td>\n",
       "      <td>0.100694</td>\n",
       "      <td>0.097222</td>\n",
       "      <td>0.098090</td>\n",
       "      <td>0.062302</td>\n",
       "      <td>47894400</td>\n",
       "    </tr>\n",
       "    <tr>\n",
       "      <th>...</th>\n",
       "      <td>...</td>\n",
       "      <td>...</td>\n",
       "      <td>...</td>\n",
       "      <td>...</td>\n",
       "      <td>...</td>\n",
       "      <td>...</td>\n",
       "      <td>...</td>\n",
       "    </tr>\n",
       "    <tr>\n",
       "      <th>8852</th>\n",
       "      <td>2021-04-27</td>\n",
       "      <td>261.579987</td>\n",
       "      <td>263.190002</td>\n",
       "      <td>260.119995</td>\n",
       "      <td>261.970001</td>\n",
       "      <td>261.970001</td>\n",
       "      <td>31014200</td>\n",
       "    </tr>\n",
       "    <tr>\n",
       "      <th>8853</th>\n",
       "      <td>2021-04-28</td>\n",
       "      <td>256.079987</td>\n",
       "      <td>256.540009</td>\n",
       "      <td>252.949997</td>\n",
       "      <td>254.559998</td>\n",
       "      <td>254.559998</td>\n",
       "      <td>46903100</td>\n",
       "    </tr>\n",
       "    <tr>\n",
       "      <th>8854</th>\n",
       "      <td>2021-04-29</td>\n",
       "      <td>255.460007</td>\n",
       "      <td>256.100006</td>\n",
       "      <td>249.000000</td>\n",
       "      <td>252.509995</td>\n",
       "      <td>252.509995</td>\n",
       "      <td>40589000</td>\n",
       "    </tr>\n",
       "    <tr>\n",
       "      <th>8855</th>\n",
       "      <td>2021-04-30</td>\n",
       "      <td>249.740005</td>\n",
       "      <td>253.080002</td>\n",
       "      <td>249.600006</td>\n",
       "      <td>252.179993</td>\n",
       "      <td>252.179993</td>\n",
       "      <td>30929200</td>\n",
       "    </tr>\n",
       "    <tr>\n",
       "      <th>8856</th>\n",
       "      <td>2021-05-03</td>\n",
       "      <td>253.399994</td>\n",
       "      <td>254.350006</td>\n",
       "      <td>251.119995</td>\n",
       "      <td>251.860001</td>\n",
       "      <td>251.860001</td>\n",
       "      <td>19598900</td>\n",
       "    </tr>\n",
       "  </tbody>\n",
       "</table>\n",
       "<p>8857 rows × 7 columns</p>\n",
       "</div>"
      ],
      "text/plain": [
       "            Date        Open        High         Low       Close   Adj Close  \\\n",
       "0     1986-03-13    0.088542    0.101563    0.088542    0.097222    0.061751   \n",
       "1     1986-03-14    0.097222    0.102431    0.097222    0.100694    0.063956   \n",
       "2     1986-03-17    0.100694    0.103299    0.100694    0.102431    0.065059   \n",
       "3     1986-03-18    0.102431    0.103299    0.098958    0.099826    0.063405   \n",
       "4     1986-03-19    0.099826    0.100694    0.097222    0.098090    0.062302   \n",
       "...          ...         ...         ...         ...         ...         ...   \n",
       "8852  2021-04-27  261.579987  263.190002  260.119995  261.970001  261.970001   \n",
       "8853  2021-04-28  256.079987  256.540009  252.949997  254.559998  254.559998   \n",
       "8854  2021-04-29  255.460007  256.100006  249.000000  252.509995  252.509995   \n",
       "8855  2021-04-30  249.740005  253.080002  249.600006  252.179993  252.179993   \n",
       "8856  2021-05-03  253.399994  254.350006  251.119995  251.860001  251.860001   \n",
       "\n",
       "          Volume  \n",
       "0     1031788800  \n",
       "1      308160000  \n",
       "2      133171200  \n",
       "3       67766400  \n",
       "4       47894400  \n",
       "...          ...  \n",
       "8852    31014200  \n",
       "8853    46903100  \n",
       "8854    40589000  \n",
       "8855    30929200  \n",
       "8856    19598900  \n",
       "\n",
       "[8857 rows x 7 columns]"
      ]
     },
     "execution_count": 16,
     "metadata": {},
     "output_type": "execute_result"
    }
   ],
   "source": [
    "df2= pd.read_csv('MSFT.csv')\n",
    "df2"
   ]
  },
  {
   "cell_type": "code",
   "execution_count": 17,
   "metadata": {},
   "outputs": [
    {
     "data": {
      "text/plain": [
       "(22805, 8)"
      ]
     },
     "execution_count": 17,
     "metadata": {},
     "output_type": "execute_result"
    }
   ],
   "source": [
    "df.shape"
   ]
  },
  {
   "cell_type": "code",
   "execution_count": 18,
   "metadata": {},
   "outputs": [
    {
     "data": {
      "text/plain": [
       "(8857, 7)"
      ]
     },
     "execution_count": 18,
     "metadata": {},
     "output_type": "execute_result"
    }
   ],
   "source": [
    "df2.shape"
   ]
  },
  {
   "cell_type": "code",
   "execution_count": 19,
   "metadata": {},
   "outputs": [
    {
     "data": {
      "text/plain": [
       "Type              0\n",
       "Date              0\n",
       "Time              0\n",
       "open              0\n",
       "high              0\n",
       "low               0\n",
       "close             0\n",
       "Unnamed: 7    22805\n",
       "dtype: int64"
      ]
     },
     "execution_count": 19,
     "metadata": {},
     "output_type": "execute_result"
    }
   ],
   "source": [
    "df_null = df.isnull().sum()\n",
    "df_null"
   ]
  },
  {
   "cell_type": "code",
   "execution_count": 20,
   "metadata": {},
   "outputs": [
    {
     "data": {
      "text/plain": [
       "Date         0\n",
       "Open         0\n",
       "High         0\n",
       "Low          0\n",
       "Close        0\n",
       "Adj Close    0\n",
       "Volume       0\n",
       "dtype: int64"
      ]
     },
     "execution_count": 20,
     "metadata": {},
     "output_type": "execute_result"
    }
   ],
   "source": [
    "df2_null = df2.isnull().sum()\n",
    "df2_null"
   ]
  },
  {
   "cell_type": "code",
   "execution_count": 22,
   "metadata": {},
   "outputs": [
    {
     "data": {
      "text/html": [
       "<div>\n",
       "<style scoped>\n",
       "    .dataframe tbody tr th:only-of-type {\n",
       "        vertical-align: middle;\n",
       "    }\n",
       "\n",
       "    .dataframe tbody tr th {\n",
       "        vertical-align: top;\n",
       "    }\n",
       "\n",
       "    .dataframe thead th {\n",
       "        text-align: right;\n",
       "    }\n",
       "</style>\n",
       "<table border=\"1\" class=\"dataframe\">\n",
       "  <thead>\n",
       "    <tr style=\"text-align: right;\">\n",
       "      <th></th>\n",
       "      <th>Type</th>\n",
       "      <th>Date</th>\n",
       "      <th>Time</th>\n",
       "      <th>open</th>\n",
       "      <th>high</th>\n",
       "      <th>low</th>\n",
       "      <th>close</th>\n",
       "    </tr>\n",
       "  </thead>\n",
       "  <tbody>\n",
       "    <tr>\n",
       "      <th>0</th>\n",
       "      <td>NIFTY</td>\n",
       "      <td>20210101</td>\n",
       "      <td>09:16</td>\n",
       "      <td>13997.90</td>\n",
       "      <td>14020.85</td>\n",
       "      <td>13991.35</td>\n",
       "      <td>14013.15</td>\n",
       "    </tr>\n",
       "    <tr>\n",
       "      <th>1</th>\n",
       "      <td>NIFTY</td>\n",
       "      <td>20210101</td>\n",
       "      <td>09:17</td>\n",
       "      <td>14014.85</td>\n",
       "      <td>14018.55</td>\n",
       "      <td>14008.15</td>\n",
       "      <td>14009.05</td>\n",
       "    </tr>\n",
       "    <tr>\n",
       "      <th>2</th>\n",
       "      <td>NIFTY</td>\n",
       "      <td>20210101</td>\n",
       "      <td>09:18</td>\n",
       "      <td>14008.05</td>\n",
       "      <td>14013.10</td>\n",
       "      <td>14005.05</td>\n",
       "      <td>14012.70</td>\n",
       "    </tr>\n",
       "    <tr>\n",
       "      <th>3</th>\n",
       "      <td>NIFTY</td>\n",
       "      <td>20210101</td>\n",
       "      <td>09:19</td>\n",
       "      <td>14013.65</td>\n",
       "      <td>14019.10</td>\n",
       "      <td>14013.65</td>\n",
       "      <td>14016.20</td>\n",
       "    </tr>\n",
       "    <tr>\n",
       "      <th>4</th>\n",
       "      <td>NIFTY</td>\n",
       "      <td>20210101</td>\n",
       "      <td>09:20</td>\n",
       "      <td>14015.45</td>\n",
       "      <td>14017.80</td>\n",
       "      <td>14011.95</td>\n",
       "      <td>14015.45</td>\n",
       "    </tr>\n",
       "    <tr>\n",
       "      <th>...</th>\n",
       "      <td>...</td>\n",
       "      <td>...</td>\n",
       "      <td>...</td>\n",
       "      <td>...</td>\n",
       "      <td>...</td>\n",
       "      <td>...</td>\n",
       "      <td>...</td>\n",
       "    </tr>\n",
       "    <tr>\n",
       "      <th>22800</th>\n",
       "      <td>NIFTY</td>\n",
       "      <td>20210331</td>\n",
       "      <td>15:27</td>\n",
       "      <td>14687.35</td>\n",
       "      <td>14694.35</td>\n",
       "      <td>14686.30</td>\n",
       "      <td>14690.60</td>\n",
       "    </tr>\n",
       "    <tr>\n",
       "      <th>22801</th>\n",
       "      <td>NIFTY</td>\n",
       "      <td>20210331</td>\n",
       "      <td>15:28</td>\n",
       "      <td>14690.90</td>\n",
       "      <td>14690.90</td>\n",
       "      <td>14686.05</td>\n",
       "      <td>14689.30</td>\n",
       "    </tr>\n",
       "    <tr>\n",
       "      <th>22802</th>\n",
       "      <td>NIFTY</td>\n",
       "      <td>20210331</td>\n",
       "      <td>15:29</td>\n",
       "      <td>14690.30</td>\n",
       "      <td>14694.10</td>\n",
       "      <td>14688.55</td>\n",
       "      <td>14691.30</td>\n",
       "    </tr>\n",
       "    <tr>\n",
       "      <th>22803</th>\n",
       "      <td>NIFTY</td>\n",
       "      <td>20210331</td>\n",
       "      <td>15:30</td>\n",
       "      <td>14689.85</td>\n",
       "      <td>14693.55</td>\n",
       "      <td>14689.45</td>\n",
       "      <td>14693.05</td>\n",
       "    </tr>\n",
       "    <tr>\n",
       "      <th>22804</th>\n",
       "      <td>NIFTY</td>\n",
       "      <td>20210331</td>\n",
       "      <td>15:31</td>\n",
       "      <td>14690.70</td>\n",
       "      <td>14690.70</td>\n",
       "      <td>14690.70</td>\n",
       "      <td>14690.70</td>\n",
       "    </tr>\n",
       "  </tbody>\n",
       "</table>\n",
       "<p>22805 rows × 7 columns</p>\n",
       "</div>"
      ],
      "text/plain": [
       "        Type      Date   Time      open      high       low     close\n",
       "0      NIFTY  20210101  09:16  13997.90  14020.85  13991.35  14013.15\n",
       "1      NIFTY  20210101  09:17  14014.85  14018.55  14008.15  14009.05\n",
       "2      NIFTY  20210101  09:18  14008.05  14013.10  14005.05  14012.70\n",
       "3      NIFTY  20210101  09:19  14013.65  14019.10  14013.65  14016.20\n",
       "4      NIFTY  20210101  09:20  14015.45  14017.80  14011.95  14015.45\n",
       "...      ...       ...    ...       ...       ...       ...       ...\n",
       "22800  NIFTY  20210331  15:27  14687.35  14694.35  14686.30  14690.60\n",
       "22801  NIFTY  20210331  15:28  14690.90  14690.90  14686.05  14689.30\n",
       "22802  NIFTY  20210331  15:29  14690.30  14694.10  14688.55  14691.30\n",
       "22803  NIFTY  20210331  15:30  14689.85  14693.55  14689.45  14693.05\n",
       "22804  NIFTY  20210331  15:31  14690.70  14690.70  14690.70  14690.70\n",
       "\n",
       "[22805 rows x 7 columns]"
      ]
     },
     "execution_count": 22,
     "metadata": {},
     "output_type": "execute_result"
    }
   ],
   "source": [
    "df_drop = df.dropna(axis=1)\n",
    "df_drop"
   ]
  },
  {
   "cell_type": "code",
   "execution_count": 26,
   "metadata": {},
   "outputs": [
    {
     "name": "stdout",
     "output_type": "stream",
     "text": [
      "<class 'pandas.core.frame.DataFrame'>\n",
      "RangeIndex: 22805 entries, 0 to 22804\n",
      "Data columns (total 7 columns):\n",
      " #   Column  Non-Null Count  Dtype  \n",
      "---  ------  --------------  -----  \n",
      " 0   Type    22805 non-null  object \n",
      " 1   Date    22805 non-null  int64  \n",
      " 2   Time    22805 non-null  object \n",
      " 3   open    22805 non-null  float64\n",
      " 4   high    22805 non-null  float64\n",
      " 5   low     22805 non-null  float64\n",
      " 6   close   22805 non-null  float64\n",
      "dtypes: float64(4), int64(1), object(2)\n",
      "memory usage: 1.2+ MB\n"
     ]
    }
   ],
   "source": [
    "df_drop.info()"
   ]
  },
  {
   "cell_type": "code",
   "execution_count": 27,
   "metadata": {},
   "outputs": [
    {
     "data": {
      "text/html": [
       "<div>\n",
       "<style scoped>\n",
       "    .dataframe tbody tr th:only-of-type {\n",
       "        vertical-align: middle;\n",
       "    }\n",
       "\n",
       "    .dataframe tbody tr th {\n",
       "        vertical-align: top;\n",
       "    }\n",
       "\n",
       "    .dataframe thead th {\n",
       "        text-align: right;\n",
       "    }\n",
       "</style>\n",
       "<table border=\"1\" class=\"dataframe\">\n",
       "  <thead>\n",
       "    <tr style=\"text-align: right;\">\n",
       "      <th></th>\n",
       "      <th>Date</th>\n",
       "      <th>open</th>\n",
       "      <th>high</th>\n",
       "      <th>low</th>\n",
       "      <th>close</th>\n",
       "    </tr>\n",
       "  </thead>\n",
       "  <tbody>\n",
       "    <tr>\n",
       "      <th>count</th>\n",
       "      <td>2.280500e+04</td>\n",
       "      <td>22805.000000</td>\n",
       "      <td>22805.000000</td>\n",
       "      <td>22805.000000</td>\n",
       "      <td>22805.000000</td>\n",
       "    </tr>\n",
       "    <tr>\n",
       "      <th>mean</th>\n",
       "      <td>2.021022e+07</td>\n",
       "      <td>14703.322396</td>\n",
       "      <td>14707.486481</td>\n",
       "      <td>14699.102201</td>\n",
       "      <td>14703.260816</td>\n",
       "    </tr>\n",
       "    <tr>\n",
       "      <th>std</th>\n",
       "      <td>8.285616e+01</td>\n",
       "      <td>391.377498</td>\n",
       "      <td>391.265231</td>\n",
       "      <td>391.551643</td>\n",
       "      <td>391.366248</td>\n",
       "    </tr>\n",
       "    <tr>\n",
       "      <th>min</th>\n",
       "      <td>2.021010e+07</td>\n",
       "      <td>13604.750000</td>\n",
       "      <td>13614.400000</td>\n",
       "      <td>13596.750000</td>\n",
       "      <td>13602.800000</td>\n",
       "    </tr>\n",
       "    <tr>\n",
       "      <th>25%</th>\n",
       "      <td>2.021012e+07</td>\n",
       "      <td>14462.250000</td>\n",
       "      <td>14465.950000</td>\n",
       "      <td>14458.050000</td>\n",
       "      <td>14461.950000</td>\n",
       "    </tr>\n",
       "    <tr>\n",
       "      <th>50%</th>\n",
       "      <td>2.021022e+07</td>\n",
       "      <td>14739.500000</td>\n",
       "      <td>14743.000000</td>\n",
       "      <td>14735.850000</td>\n",
       "      <td>14739.450000</td>\n",
       "    </tr>\n",
       "    <tr>\n",
       "      <th>75%</th>\n",
       "      <td>2.021031e+07</td>\n",
       "      <td>15037.000000</td>\n",
       "      <td>15041.250000</td>\n",
       "      <td>15032.500000</td>\n",
       "      <td>15036.850000</td>\n",
       "    </tr>\n",
       "    <tr>\n",
       "      <th>max</th>\n",
       "      <td>2.021033e+07</td>\n",
       "      <td>15429.500000</td>\n",
       "      <td>15431.750000</td>\n",
       "      <td>15427.900000</td>\n",
       "      <td>15430.200000</td>\n",
       "    </tr>\n",
       "  </tbody>\n",
       "</table>\n",
       "</div>"
      ],
      "text/plain": [
       "               Date          open          high           low         close\n",
       "count  2.280500e+04  22805.000000  22805.000000  22805.000000  22805.000000\n",
       "mean   2.021022e+07  14703.322396  14707.486481  14699.102201  14703.260816\n",
       "std    8.285616e+01    391.377498    391.265231    391.551643    391.366248\n",
       "min    2.021010e+07  13604.750000  13614.400000  13596.750000  13602.800000\n",
       "25%    2.021012e+07  14462.250000  14465.950000  14458.050000  14461.950000\n",
       "50%    2.021022e+07  14739.500000  14743.000000  14735.850000  14739.450000\n",
       "75%    2.021031e+07  15037.000000  15041.250000  15032.500000  15036.850000\n",
       "max    2.021033e+07  15429.500000  15431.750000  15427.900000  15430.200000"
      ]
     },
     "execution_count": 27,
     "metadata": {},
     "output_type": "execute_result"
    }
   ],
   "source": [
    "df_drop.describe()"
   ]
  },
  {
   "cell_type": "code",
   "execution_count": 31,
   "metadata": {},
   "outputs": [
    {
     "data": {
      "text/plain": [
       "<AxesSubplot:>"
      ]
     },
     "execution_count": 31,
     "metadata": {},
     "output_type": "execute_result"
    },
    {
     "data": {
      "image/png": "[encoded data removed]",
      "text/plain": [
       "<Figure size 1152x432 with 1 Axes>"
      ]
     },
     "metadata": {
      "needs_background": "light"
     },
     "output_type": "display_data"
    }
   ],
   "source": [
    "df_drop['open'].plot(figsize=(16,6))"
   ]
  },
  {
   "cell_type": "code",
   "execution_count": 32,
   "metadata": {},
   "outputs": [
    {
     "data": {
      "text/plain": [
       "0    20210101\n",
       "1    20210101\n",
       "2    20210101\n",
       "3    20210101\n",
       "4    20210101\n",
       "Name: Date, dtype: int64"
      ]
     },
     "execution_count": 32,
     "metadata": {},
     "output_type": "execute_result"
    }
   ],
   "source": [
    "df_drop['Date'].head()"
   ]
  },
  {
   "cell_type": "code",
   "execution_count": 33,
   "metadata": {},
   "outputs": [
    {
     "data": {
      "text/plain": [
       "dtype('int64')"
      ]
     },
     "execution_count": 33,
     "metadata": {},
     "output_type": "execute_result"
    }
   ],
   "source": [
    "df_drop['Date'].dtype"
   ]
  },
  {
   "cell_type": "code",
   "execution_count": 46,
   "metadata": {},
   "outputs": [],
   "source": [
    "df_drop['Date_new']= pd.to_datetime(df_drop['Date'],format=\"%Y%m%d\")"
   ]
  },
  {
   "cell_type": "code",
   "execution_count": 47,
   "metadata": {},
   "outputs": [
    {
     "data": {
      "text/plain": [
       "0   2021-01-01\n",
       "1   2021-01-01\n",
       "2   2021-01-01\n",
       "3   2021-01-01\n",
       "4   2021-01-01\n",
       "Name: Date_new, dtype: datetime64[ns]"
      ]
     },
     "execution_count": 47,
     "metadata": {},
     "output_type": "execute_result"
    }
   ],
   "source": [
    "df_drop['Date_new'].head()"
   ]
  },
  {
   "cell_type": "code",
   "execution_count": 48,
   "metadata": {},
   "outputs": [
    {
     "data": {
      "text/plain": [
       "<AxesSubplot:>"
      ]
     },
     "execution_count": 48,
     "metadata": {},
     "output_type": "execute_result"
    },
    {
     "data": {
      "image/png": "[encoded data removed]",
      "text/plain": [
       "<Figure size 1152x432 with 1 Axes>"
      ]
     },
     "metadata": {
      "needs_background": "light"
     },
     "output_type": "display_data"
    }
   ],
   "source": [
    "df_drop['Date_new'].plot(figsize=(16,6))"
   ]
  },
  {
   "cell_type": "code",
   "execution_count": null,
   "metadata": {},
   "outputs": [],
   "source": []
  }
 ],
 "metadata": {
  "kernelspec": {
   "display_name": "Python 3",
   "language": "python",
   "name": "python3"
  },
  "language_info": {
   "codemirror_mode": {
    "name": "ipython",
    "version": 3
   },
   "file_extension": ".py",
   "mimetype": "text/x-python",
   "name": "python",
   "nbconvert_exporter": "python",
   "pygments_lexer": "ipython3",
   "version": "3.7.2"
  }
 },
 "nbformat": 4,
 "nbformat_minor": 4
}
